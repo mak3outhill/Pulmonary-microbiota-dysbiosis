{
 "cells": [
  {
   "cell_type": "code",
   "execution_count": 1,
   "id": "b972ccc2",
   "metadata": {
    "vscode": {
     "languageId": "r"
    }
   },
   "outputs": [
    {
     "name": "stderr",
     "output_type": "stream",
     "text": [
      "── \u001b[1mAttaching packages\u001b[22m ─────────────────────────────────────── tidyverse 1.3.2 ──\n",
      "\u001b[32m✔\u001b[39m \u001b[34mggplot2\u001b[39m 3.5.2     \u001b[32m✔\u001b[39m \u001b[34mpurrr  \u001b[39m 1.0.1\n",
      "\u001b[32m✔\u001b[39m \u001b[34mtibble \u001b[39m 3.3.0     \u001b[32m✔\u001b[39m \u001b[34mdplyr  \u001b[39m 1.1.4\n",
      "\u001b[32m✔\u001b[39m \u001b[34mtidyr  \u001b[39m 1.3.0     \u001b[32m✔\u001b[39m \u001b[34mstringr\u001b[39m 1.5.1\n",
      "\u001b[32m✔\u001b[39m \u001b[34mreadr  \u001b[39m 2.1.3     \u001b[32m✔\u001b[39m \u001b[34mforcats\u001b[39m 1.0.0\n",
      "Warning message:\n",
      "\"package 'dplyr' was built under R version 4.2.3\"\n",
      "Warning message:\n",
      "\"package 'stringr' was built under R version 4.2.3\"\n",
      "── \u001b[1mConflicts\u001b[22m ────────────────────────────────────────── tidyverse_conflicts() ──\n",
      "\u001b[31m✖\u001b[39m \u001b[34mdplyr\u001b[39m::\u001b[32mfilter()\u001b[39m masks \u001b[34mstats\u001b[39m::filter()\n",
      "\u001b[31m✖\u001b[39m \u001b[34mdplyr\u001b[39m::\u001b[32mlag()\u001b[39m    masks \u001b[34mstats\u001b[39m::lag()\n",
      "\n",
      "Attaching package: 'reshape2'\n",
      "\n",
      "\n",
      "The following object is masked from 'package:tidyr':\n",
      "\n",
      "    smiths\n",
      "\n",
      "\n"
     ]
    }
   ],
   "source": [
    "library(tidyverse)\n",
    "library(reshape2)"
   ]
  },
  {
   "cell_type": "markdown",
   "id": "56dd9146",
   "metadata": {},
   "source": [
    "## Disease score"
   ]
  },
  {
   "cell_type": "code",
   "execution_count": 25,
   "id": "4224f61e",
   "metadata": {
    "vscode": {
     "languageId": "r"
    }
   },
   "outputs": [],
   "source": [
    "normalize1 <- function(x) {\n",
    "  return((x - min(x)) / (max(x) - min(x)))\n",
    "}"
   ]
  },
  {
   "cell_type": "code",
   "execution_count": null,
   "id": "dd044506",
   "metadata": {
    "vscode": {
     "languageId": "r"
    }
   },
   "outputs": [],
   "source": [
    "score = read.csv(\"data/RandomForest/disease_severity.csv\")\n",
    "\n",
    "score$Skin_score1 = normalize1(score$Skin_score)\n",
    "score$H1N11 = normalize1(score$H1N1)\n",
    "score$Disease_score1 = normalize1(score$Disease_score)\n",
    "score$Weight_loss1 = normalize1(score$Weight_loss)\n",
    "weight = 0.25\n",
    "\n",
    "score$score = (weight * score$Skin_score1) + \n",
    "            (-weight * score$H1N11) + \n",
    "            (weight * score$Disease_score1) + \n",
    "            (weight * score$Weight_loss1)"
   ]
  },
  {
   "cell_type": "code",
   "execution_count": 75,
   "id": "d1951881",
   "metadata": {
    "vscode": {
     "languageId": "r"
    }
   },
   "outputs": [
    {
     "name": "stdout",
     "output_type": "stream",
     "text": [
      "\n",
      "Study: aov(score ~ group, score) ~ \"group\"\n",
      "\n",
      "LSD t Test for score \n",
      "\n",
      "Mean Square Error:  0.01132706 \n",
      "\n",
      "group,  means and individual ( 95 %) CI\n",
      "\n",
      "            score        std r         LCL       UCL         Min       Max\n",
      "Middle 0.16530099 0.08519434 6  0.07269096 0.2579110  0.08178195 0.3257204\n",
      "Mild   0.04304676 0.11332969 6 -0.04956327 0.1356568 -0.07688924 0.2280745\n",
      "Severe 0.52089800 0.11781122 6  0.42828798 0.6135080  0.34387036 0.6522125\n",
      "\n",
      "Alpha: 0.05 ; DF Error: 15\n",
      "Critical Value of t: 2.13145 \n",
      "\n",
      "least Significant Difference: 0.1309704 \n",
      "\n",
      "Treatments with the same letter are not significantly different.\n",
      "\n",
      "            score groups\n",
      "Severe 0.52089800      a\n",
      "Middle 0.16530099      b\n",
      "Mild   0.04304676      b\n"
     ]
    },
    {
     "data": {
      "image/png": "[encoded data removed]",
      "text/plain": [
       "plot without title"
      ]
     },
     "metadata": {
      "image/png": {
       "height": 420,
       "width": 420
      }
     },
     "output_type": "display_data"
    }
   ],
   "source": [
    "library(agricolae)\n",
    "LSD.test(aov(score ~group, score), \"group\", group = T, console = T)\n",
    "score$group = factor(score$group, levels = c(\"Severe\", \"Middle\", \"Mild\"))\n",
    "ggplot(score, aes(group, score)) +\n",
    "    geom_boxplot() +\n",
    "    theme_bw()"
   ]
  },
  {
   "cell_type": "markdown",
   "id": "bb42043b",
   "metadata": {},
   "source": [
    "## Make object"
   ]
  },
  {
   "cell_type": "code",
   "execution_count": 21,
   "id": "7e136239",
   "metadata": {
    "vscode": {
     "languageId": "r"
    }
   },
   "outputs": [],
   "source": [
    "met_tab = read.csv(\"data/RandomForest/met_tab.csv\",row.names = 1)\n",
    "sp_tab = read.csv(\"data/RandomForest/sp_tab.csv\",row.names = 1) \n",
    "colnames(sp_tab) = gsub(\"s__\", \"\", colnames(sp_tab))"
   ]
  },
  {
   "cell_type": "code",
   "execution_count": null,
   "id": "5571478c",
   "metadata": {
    "vscode": {
     "languageId": "r"
    }
   },
   "outputs": [],
   "source": [
    "gene_tab = read.csv(\"gene_table.csv\")\n",
    "gene1 = gene_tab[,-1] %>% t\n",
    "colnames(gene1) = gene_tab$gene1\n",
    "gene_tab = gene1 %>% scale"
   ]
  },
  {
   "cell_type": "code",
   "execution_count": null,
   "id": "d4ce2fa3",
   "metadata": {
    "vscode": {
     "languageId": "r"
    }
   },
   "outputs": [],
   "source": [
    "link = read.csv(\"data/RandomForest/link.csv\") %>% mutate(number = 1:nrow(link))"
   ]
  },
  {
   "cell_type": "code",
   "execution_count": null,
   "id": "89f1e8b8",
   "metadata": {
    "vscode": {
     "languageId": "r"
    }
   },
   "outputs": [],
   "source": [
    "result_list = list()\n",
    "for (i in 1:nrow(link)) {\n",
    "    gene_name = link$HostGene[i]\n",
    "    met_name = link$Metabolite[i]\n",
    "    sp_name = link$Species[i]\n",
    "    number = link$number[i]\n",
    "    met_col = met_tab[, met_name]\n",
    "    gene_col = gene_tab[,gene_name]\n",
    "    sp_col = sp_tab[, sp_name]\n",
    "    df = data.frame(cbind(met_col, gene_col, score$score, sp_col))\n",
    "    colnames(df) = c(met_name, gene_name,\"score\", sp_name)\n",
    "    result_list[[number]] = df\n",
    "}"
   ]
  },
  {
   "cell_type": "code",
   "execution_count": null,
   "id": "0942ee0a",
   "metadata": {
    "vscode": {
     "languageId": "r"
    }
   },
   "outputs": [],
   "source": [
    "result_list <- lapply(1:length(result_list), function(i) {\n",
    "  read.csv(paste0(\"data/RandomForest/object/object_\", i, \".csv\"), header = T)\n",
    "})"
   ]
  },
  {
   "cell_type": "markdown",
   "id": "e7de97de",
   "metadata": {},
   "source": [
    "## RF"
   ]
  },
  {
   "cell_type": "code",
   "execution_count": 55,
   "id": "6d54a16b",
   "metadata": {
    "vscode": {
     "languageId": "r"
    }
   },
   "outputs": [],
   "source": [
    "pacman::p_load(randomForest,rfPermute,rfUtilities,forcats)"
   ]
  },
  {
   "cell_type": "code",
   "execution_count": 65,
   "id": "4c60f583",
   "metadata": {
    "vscode": {
     "languageId": "r"
    }
   },
   "outputs": [],
   "source": [
    "result_list <- lapply(1:152, function(i) {\n",
    "  read.csv(paste0(\"data/RandomForest/object/object_\", i, \".csv\"), header = T)\n",
    "})"
   ]
  },
  {
   "cell_type": "code",
   "execution_count": 66,
   "id": "582c906a",
   "metadata": {
    "vscode": {
     "languageId": "r"
    }
   },
   "outputs": [],
   "source": [
    "result = data.frame(number = integer(), Rsquare = numeric(), Pvalue = numeric())\n",
    "for(i in 1:length(result_list)) {\n",
    "    set.seed(1122)\n",
    "    dff = result_list[i] \n",
    "    dff = as.data.frame(dff)\n",
    "    model = randomForest(score~., data = dff, importance = TRUE,proximity = TRUE)\n",
    "    treat = rf.significance(model, dff, nperm = 99, ntree = 500)\n",
    "    result = rbind(result, data.frame(number = i, Rsquare = treat$Rsquare, Pvalue = treat$pValue))\n",
    "    }"
   ]
  },
  {
   "cell_type": "code",
   "execution_count": 67,
   "id": "cea4a51e",
   "metadata": {
    "vscode": {
     "languageId": "r"
    }
   },
   "outputs": [],
   "source": [
    "link = left_join(link, result, by = \"number\") %>% select(-number) \n"
   ]
  },
  {
   "cell_type": "code",
   "execution_count": null,
   "id": "30c6e227",
   "metadata": {
    "vscode": {
     "languageId": "r"
    }
   },
   "outputs": [
    {
     "data": {
      "text/html": [
       "<table class=\"dataframe\">\n",
       "<caption>A data.frame: 14 × 12</caption>\n",
       "<thead>\n",
       "\t<tr><th scope=col>Interaction</th><th scope=col>Enriched.Group</th><th scope=col>Species</th><th scope=col>Species_Pvalue</th><th scope=col>Species_LogFC</th><th scope=col>Metabolite</th><th scope=col>MetaB_Pvalue</th><th scope=col>MetaB_LogFC</th><th scope=col>HostGene</th><th scope=col>Gene_LogFC</th><th scope=col>Rsquare</th><th scope=col>Pvalue</th></tr>\n",
       "\t<tr><th scope=col>&lt;chr&gt;</th><th scope=col>&lt;chr&gt;</th><th scope=col>&lt;chr&gt;</th><th scope=col>&lt;dbl&gt;</th><th scope=col>&lt;dbl&gt;</th><th scope=col>&lt;chr&gt;</th><th scope=col>&lt;dbl&gt;</th><th scope=col>&lt;dbl&gt;</th><th scope=col>&lt;chr&gt;</th><th scope=col>&lt;dbl&gt;</th><th scope=col>&lt;dbl&gt;</th><th scope=col>&lt;dbl&gt;</th></tr>\n",
       "</thead>\n",
       "<tbody>\n",
       "\t<tr><td>Bacillus cereus_Xanthosine_nt5e      </td><td>Severe</td><td>Bacillus cereus    </td><td>0.001541051</td><td>5.578057</td><td>Xanthosine</td><td>0.04515</td><td>0.4726558</td><td>Nt5e  </td><td>-0.0636126</td><td> 0.58048073</td><td>0.010101</td></tr>\n",
       "\t<tr><td>Bacillus cereus_Xanthosine_nt5m      </td><td>Severe</td><td>Bacillus cereus    </td><td>0.001541051</td><td>5.578057</td><td>Xanthosine</td><td>0.04515</td><td>0.4726558</td><td>Nt5m  </td><td> 0.1762341</td><td> 0.57117521</td><td>0.010101</td></tr>\n",
       "\t<tr><td>Bacillus cereus_Xanthosine_nt5el     </td><td>Severe</td><td>Bacillus cereus    </td><td>0.001541051</td><td>5.578057</td><td>Xanthosine</td><td>0.04515</td><td>0.4726558</td><td>Nt5el </td><td>-0.8602698</td><td> 0.53848585</td><td>0.010101</td></tr>\n",
       "\t<tr><td>Bacillus cereus_Xanthosine_nt5c2     </td><td>Severe</td><td>Bacillus cereus    </td><td>0.001541051</td><td>5.578057</td><td>Xanthosine</td><td>0.04515</td><td>0.4726558</td><td>Nt5c2 </td><td> 0.9945473</td><td> 0.52192226</td><td>0.010101</td></tr>\n",
       "\t<tr><td>Bacillus cereus_Xanthosine_Nt5dc2    </td><td>Severe</td><td>Bacillus cereus    </td><td>0.001541051</td><td>5.578057</td><td>Xanthosine</td><td>0.04515</td><td>0.4726558</td><td>Nt5dc2</td><td>-0.1557182</td><td> 0.50997899</td><td>0.010101</td></tr>\n",
       "\t<tr><td>Bacillus cereus_Xanthosine_nt5c1a    </td><td>Severe</td><td>Bacillus cereus    </td><td>0.001541051</td><td>5.578057</td><td>Xanthosine</td><td>0.04515</td><td>0.4726558</td><td>Nt5c1a</td><td>-0.6861859</td><td> 0.50111126</td><td>0.010101</td></tr>\n",
       "\t<tr><td>Bacillus cereus_Xanthosine_pnp2      </td><td>Severe</td><td>Bacillus cereus    </td><td>0.001541051</td><td>5.578057</td><td>Xanthosine</td><td>0.04515</td><td>0.4726558</td><td>Pnp2  </td><td> 0.1015200</td><td> 0.46697135</td><td>0.010101</td></tr>\n",
       "\t<tr><td>Fibrella_aestuarina_Xanthosine_nt5el </td><td>Severe</td><td>Fibrella_aestuarina</td><td>0.034778712</td><td>3.086297</td><td>Xanthosine</td><td>0.04515</td><td>0.4726558</td><td>Nt5el </td><td>-0.8602698</td><td>-0.03393466</td><td>0.222222</td></tr>\n",
       "\t<tr><td>Fibrella_aestuarina_Xanthosine_nt5c2 </td><td>Severe</td><td>Fibrella_aestuarina</td><td>0.034778712</td><td>3.086297</td><td>Xanthosine</td><td>0.04515</td><td>0.4726558</td><td>Nt5c2 </td><td> 0.9945473</td><td>-0.05843311</td><td>0.202020</td></tr>\n",
       "\t<tr><td>Fibrella_aestuarina_Xanthosine_nt5m  </td><td>Severe</td><td>Fibrella_aestuarina</td><td>0.034778712</td><td>3.086297</td><td>Xanthosine</td><td>0.04515</td><td>0.4726558</td><td>Nt5m  </td><td> 0.1762341</td><td>-0.07150551</td><td>0.252525</td></tr>\n",
       "\t<tr><td>Fibrella_aestuarina_Xanthosine_nt5e  </td><td>Severe</td><td>Fibrella_aestuarina</td><td>0.034778712</td><td>3.086297</td><td>Xanthosine</td><td>0.04515</td><td>0.4726558</td><td>Nt5e  </td><td>-0.0636126</td><td>-0.13572741</td><td>0.272727</td></tr>\n",
       "\t<tr><td>Fibrella_aestuarina_Xanthosine_nt5c1a</td><td>Severe</td><td>Fibrella_aestuarina</td><td>0.034778712</td><td>3.086297</td><td>Xanthosine</td><td>0.04515</td><td>0.4726558</td><td>Nt5c1a</td><td>-0.6861859</td><td>-0.19329810</td><td>0.333333</td></tr>\n",
       "\t<tr><td>Fibrella_aestuarina_Xanthosine_pnp2  </td><td>Severe</td><td>Fibrella_aestuarina</td><td>0.034778712</td><td>3.086297</td><td>Xanthosine</td><td>0.04515</td><td>0.4726558</td><td>Pnp2  </td><td> 0.1015200</td><td>-0.23823378</td><td>0.515152</td></tr>\n",
       "\t<tr><td>Fibrella_aestuarina_Xanthosine_Nt5dc2</td><td>Severe</td><td>Fibrella_aestuarina</td><td>0.034778712</td><td>3.086297</td><td>Xanthosine</td><td>0.04515</td><td>0.4726558</td><td>Nt5dc2</td><td>-0.1557182</td><td>-0.24329063</td><td>0.454545</td></tr>\n",
       "</tbody>\n",
       "</table>\n"
      ],
      "text/latex": [
       "A data.frame: 14 × 12\n",
       "\\begin{tabular}{llllllllllll}\n",
       " Interaction & Enriched.Group & Species & Species\\_Pvalue & Species\\_LogFC & Metabolite & MetaB\\_Pvalue & MetaB\\_LogFC & HostGene & Gene\\_LogFC & Rsquare & Pvalue\\\\\n",
       " <chr> & <chr> & <chr> & <dbl> & <dbl> & <chr> & <dbl> & <dbl> & <chr> & <dbl> & <dbl> & <dbl>\\\\\n",
       "\\hline\n",
       "\t Bacillus cereus\\_Xanthosine\\_nt5e       & Severe & Bacillus cereus     & 0.001541051 & 5.578057 & Xanthosine & 0.04515 & 0.4726558 & Nt5e   & -0.0636126 &  0.58048073 & 0.010101\\\\\n",
       "\t Bacillus cereus\\_Xanthosine\\_nt5m       & Severe & Bacillus cereus     & 0.001541051 & 5.578057 & Xanthosine & 0.04515 & 0.4726558 & Nt5m   &  0.1762341 &  0.57117521 & 0.010101\\\\\n",
       "\t Bacillus cereus\\_Xanthosine\\_nt5el      & Severe & Bacillus cereus     & 0.001541051 & 5.578057 & Xanthosine & 0.04515 & 0.4726558 & Nt5el  & -0.8602698 &  0.53848585 & 0.010101\\\\\n",
       "\t Bacillus cereus\\_Xanthosine\\_nt5c2      & Severe & Bacillus cereus     & 0.001541051 & 5.578057 & Xanthosine & 0.04515 & 0.4726558 & Nt5c2  &  0.9945473 &  0.52192226 & 0.010101\\\\\n",
       "\t Bacillus cereus\\_Xanthosine\\_Nt5dc2     & Severe & Bacillus cereus     & 0.001541051 & 5.578057 & Xanthosine & 0.04515 & 0.4726558 & Nt5dc2 & -0.1557182 &  0.50997899 & 0.010101\\\\\n",
       "\t Bacillus cereus\\_Xanthosine\\_nt5c1a     & Severe & Bacillus cereus     & 0.001541051 & 5.578057 & Xanthosine & 0.04515 & 0.4726558 & Nt5c1a & -0.6861859 &  0.50111126 & 0.010101\\\\\n",
       "\t Bacillus cereus\\_Xanthosine\\_pnp2       & Severe & Bacillus cereus     & 0.001541051 & 5.578057 & Xanthosine & 0.04515 & 0.4726558 & Pnp2   &  0.1015200 &  0.46697135 & 0.010101\\\\\n",
       "\t Fibrella\\_aestuarina\\_Xanthosine\\_nt5el  & Severe & Fibrella\\_aestuarina & 0.034778712 & 3.086297 & Xanthosine & 0.04515 & 0.4726558 & Nt5el  & -0.8602698 & -0.03393466 & 0.222222\\\\\n",
       "\t Fibrella\\_aestuarina\\_Xanthosine\\_nt5c2  & Severe & Fibrella\\_aestuarina & 0.034778712 & 3.086297 & Xanthosine & 0.04515 & 0.4726558 & Nt5c2  &  0.9945473 & -0.05843311 & 0.202020\\\\\n",
       "\t Fibrella\\_aestuarina\\_Xanthosine\\_nt5m   & Severe & Fibrella\\_aestuarina & 0.034778712 & 3.086297 & Xanthosine & 0.04515 & 0.4726558 & Nt5m   &  0.1762341 & -0.07150551 & 0.252525\\\\\n",
       "\t Fibrella\\_aestuarina\\_Xanthosine\\_nt5e   & Severe & Fibrella\\_aestuarina & 0.034778712 & 3.086297 & Xanthosine & 0.04515 & 0.4726558 & Nt5e   & -0.0636126 & -0.13572741 & 0.272727\\\\\n",
       "\t Fibrella\\_aestuarina\\_Xanthosine\\_nt5c1a & Severe & Fibrella\\_aestuarina & 0.034778712 & 3.086297 & Xanthosine & 0.04515 & 0.4726558 & Nt5c1a & -0.6861859 & -0.19329810 & 0.333333\\\\\n",
       "\t Fibrella\\_aestuarina\\_Xanthosine\\_pnp2   & Severe & Fibrella\\_aestuarina & 0.034778712 & 3.086297 & Xanthosine & 0.04515 & 0.4726558 & Pnp2   &  0.1015200 & -0.23823378 & 0.515152\\\\\n",
       "\t Fibrella\\_aestuarina\\_Xanthosine\\_Nt5dc2 & Severe & Fibrella\\_aestuarina & 0.034778712 & 3.086297 & Xanthosine & 0.04515 & 0.4726558 & Nt5dc2 & -0.1557182 & -0.24329063 & 0.454545\\\\\n",
       "\\end{tabular}\n"
      ],
      "text/markdown": [
       "\n",
       "A data.frame: 14 × 12\n",
       "\n",
       "| Interaction &lt;chr&gt; | Enriched.Group &lt;chr&gt; | Species &lt;chr&gt; | Species_Pvalue &lt;dbl&gt; | Species_LogFC &lt;dbl&gt; | Metabolite &lt;chr&gt; | MetaB_Pvalue &lt;dbl&gt; | MetaB_LogFC &lt;dbl&gt; | HostGene &lt;chr&gt; | Gene_LogFC &lt;dbl&gt; | Rsquare &lt;dbl&gt; | Pvalue &lt;dbl&gt; |\n",
       "|---|---|---|---|---|---|---|---|---|---|---|---|\n",
       "| Bacillus cereus_Xanthosine_nt5e       | Severe | Bacillus cereus     | 0.001541051 | 5.578057 | Xanthosine | 0.04515 | 0.4726558 | Nt5e   | -0.0636126 |  0.58048073 | 0.010101 |\n",
       "| Bacillus cereus_Xanthosine_nt5m       | Severe | Bacillus cereus     | 0.001541051 | 5.578057 | Xanthosine | 0.04515 | 0.4726558 | Nt5m   |  0.1762341 |  0.57117521 | 0.010101 |\n",
       "| Bacillus cereus_Xanthosine_nt5el      | Severe | Bacillus cereus     | 0.001541051 | 5.578057 | Xanthosine | 0.04515 | 0.4726558 | Nt5el  | -0.8602698 |  0.53848585 | 0.010101 |\n",
       "| Bacillus cereus_Xanthosine_nt5c2      | Severe | Bacillus cereus     | 0.001541051 | 5.578057 | Xanthosine | 0.04515 | 0.4726558 | Nt5c2  |  0.9945473 |  0.52192226 | 0.010101 |\n",
       "| Bacillus cereus_Xanthosine_Nt5dc2     | Severe | Bacillus cereus     | 0.001541051 | 5.578057 | Xanthosine | 0.04515 | 0.4726558 | Nt5dc2 | -0.1557182 |  0.50997899 | 0.010101 |\n",
       "| Bacillus cereus_Xanthosine_nt5c1a     | Severe | Bacillus cereus     | 0.001541051 | 5.578057 | Xanthosine | 0.04515 | 0.4726558 | Nt5c1a | -0.6861859 |  0.50111126 | 0.010101 |\n",
       "| Bacillus cereus_Xanthosine_pnp2       | Severe | Bacillus cereus     | 0.001541051 | 5.578057 | Xanthosine | 0.04515 | 0.4726558 | Pnp2   |  0.1015200 |  0.46697135 | 0.010101 |\n",
       "| Fibrella_aestuarina_Xanthosine_nt5el  | Severe | Fibrella_aestuarina | 0.034778712 | 3.086297 | Xanthosine | 0.04515 | 0.4726558 | Nt5el  | -0.8602698 | -0.03393466 | 0.222222 |\n",
       "| Fibrella_aestuarina_Xanthosine_nt5c2  | Severe | Fibrella_aestuarina | 0.034778712 | 3.086297 | Xanthosine | 0.04515 | 0.4726558 | Nt5c2  |  0.9945473 | -0.05843311 | 0.202020 |\n",
       "| Fibrella_aestuarina_Xanthosine_nt5m   | Severe | Fibrella_aestuarina | 0.034778712 | 3.086297 | Xanthosine | 0.04515 | 0.4726558 | Nt5m   |  0.1762341 | -0.07150551 | 0.252525 |\n",
       "| Fibrella_aestuarina_Xanthosine_nt5e   | Severe | Fibrella_aestuarina | 0.034778712 | 3.086297 | Xanthosine | 0.04515 | 0.4726558 | Nt5e   | -0.0636126 | -0.13572741 | 0.272727 |\n",
       "| Fibrella_aestuarina_Xanthosine_nt5c1a | Severe | Fibrella_aestuarina | 0.034778712 | 3.086297 | Xanthosine | 0.04515 | 0.4726558 | Nt5c1a | -0.6861859 | -0.19329810 | 0.333333 |\n",
       "| Fibrella_aestuarina_Xanthosine_pnp2   | Severe | Fibrella_aestuarina | 0.034778712 | 3.086297 | Xanthosine | 0.04515 | 0.4726558 | Pnp2   |  0.1015200 | -0.23823378 | 0.515152 |\n",
       "| Fibrella_aestuarina_Xanthosine_Nt5dc2 | Severe | Fibrella_aestuarina | 0.034778712 | 3.086297 | Xanthosine | 0.04515 | 0.4726558 | Nt5dc2 | -0.1557182 | -0.24329063 | 0.454545 |\n",
       "\n"
      ],
      "text/plain": [
       "   Interaction                           Enriched.Group Species            \n",
       "1  Bacillus cereus_Xanthosine_nt5e       Severe         Bacillus cereus    \n",
       "2  Bacillus cereus_Xanthosine_nt5m       Severe         Bacillus cereus    \n",
       "3  Bacillus cereus_Xanthosine_nt5el      Severe         Bacillus cereus    \n",
       "4  Bacillus cereus_Xanthosine_nt5c2      Severe         Bacillus cereus    \n",
       "5  Bacillus cereus_Xanthosine_Nt5dc2     Severe         Bacillus cereus    \n",
       "6  Bacillus cereus_Xanthosine_nt5c1a     Severe         Bacillus cereus    \n",
       "7  Bacillus cereus_Xanthosine_pnp2       Severe         Bacillus cereus    \n",
       "8  Fibrella_aestuarina_Xanthosine_nt5el  Severe         Fibrella_aestuarina\n",
       "9  Fibrella_aestuarina_Xanthosine_nt5c2  Severe         Fibrella_aestuarina\n",
       "10 Fibrella_aestuarina_Xanthosine_nt5m   Severe         Fibrella_aestuarina\n",
       "11 Fibrella_aestuarina_Xanthosine_nt5e   Severe         Fibrella_aestuarina\n",
       "12 Fibrella_aestuarina_Xanthosine_nt5c1a Severe         Fibrella_aestuarina\n",
       "13 Fibrella_aestuarina_Xanthosine_pnp2   Severe         Fibrella_aestuarina\n",
       "14 Fibrella_aestuarina_Xanthosine_Nt5dc2 Severe         Fibrella_aestuarina\n",
       "   Species_Pvalue Species_LogFC Metabolite MetaB_Pvalue MetaB_LogFC HostGene\n",
       "1  0.001541051    5.578057      Xanthosine 0.04515      0.4726558   Nt5e    \n",
       "2  0.001541051    5.578057      Xanthosine 0.04515      0.4726558   Nt5m    \n",
       "3  0.001541051    5.578057      Xanthosine 0.04515      0.4726558   Nt5el   \n",
       "4  0.001541051    5.578057      Xanthosine 0.04515      0.4726558   Nt5c2   \n",
       "5  0.001541051    5.578057      Xanthosine 0.04515      0.4726558   Nt5dc2  \n",
       "6  0.001541051    5.578057      Xanthosine 0.04515      0.4726558   Nt5c1a  \n",
       "7  0.001541051    5.578057      Xanthosine 0.04515      0.4726558   Pnp2    \n",
       "8  0.034778712    3.086297      Xanthosine 0.04515      0.4726558   Nt5el   \n",
       "9  0.034778712    3.086297      Xanthosine 0.04515      0.4726558   Nt5c2   \n",
       "10 0.034778712    3.086297      Xanthosine 0.04515      0.4726558   Nt5m    \n",
       "11 0.034778712    3.086297      Xanthosine 0.04515      0.4726558   Nt5e    \n",
       "12 0.034778712    3.086297      Xanthosine 0.04515      0.4726558   Nt5c1a  \n",
       "13 0.034778712    3.086297      Xanthosine 0.04515      0.4726558   Pnp2    \n",
       "14 0.034778712    3.086297      Xanthosine 0.04515      0.4726558   Nt5dc2  \n",
       "   Gene_LogFC Rsquare     Pvalue  \n",
       "1  -0.0636126  0.58048073 0.010101\n",
       "2   0.1762341  0.57117521 0.010101\n",
       "3  -0.8602698  0.53848585 0.010101\n",
       "4   0.9945473  0.52192226 0.010101\n",
       "5  -0.1557182  0.50997899 0.010101\n",
       "6  -0.6861859  0.50111126 0.010101\n",
       "7   0.1015200  0.46697135 0.010101\n",
       "8  -0.8602698 -0.03393466 0.222222\n",
       "9   0.9945473 -0.05843311 0.202020\n",
       "10  0.1762341 -0.07150551 0.252525\n",
       "11 -0.0636126 -0.13572741 0.272727\n",
       "12 -0.6861859 -0.19329810 0.333333\n",
       "13  0.1015200 -0.23823378 0.515152\n",
       "14 -0.1557182 -0.24329063 0.454545"
      ]
     },
     "metadata": {},
     "output_type": "display_data"
    }
   ],
   "source": [
    "link %>% subset(Enriched.Group == \"Severe\") %>%\n",
    "    arrange(desc(Rsquare)) "
   ]
  },
  {
   "cell_type": "code",
   "execution_count": 73,
   "id": "61801ca1",
   "metadata": {
    "vscode": {
     "languageId": "r"
    }
   },
   "outputs": [],
   "source": [
    "write.csv(link %>% subset(Enriched.Group == \"Severe\") %>%\n",
    "    arrange(desc(Rsquare)) , \"data/RandomForest/link_RF.csv\", row.names = FALSE)"
   ]
  }
 ],
 "metadata": {
  "kernelspec": {
   "display_name": "R",
   "language": "R",
   "name": "ir"
  },
  "language_info": {
   "codemirror_mode": "r",
   "file_extension": ".r",
   "mimetype": "text/x-r-source",
   "name": "R",
   "pygments_lexer": "r",
   "version": "4.2.2"
  }
 },
 "nbformat": 4,
 "nbformat_minor": 5
}
